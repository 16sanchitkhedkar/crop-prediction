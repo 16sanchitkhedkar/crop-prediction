{
 "cells": [
  {
   "cell_type": "code",
   "execution_count": 101,
   "metadata": {},
   "outputs": [],
   "source": [
    "#importing the required libraries\n",
    "import pandas as pd\n",
    "import numpy as np\n",
    "from sklearn.model_selection import train_test_split"
   ]
  },
  {
   "cell_type": "code",
   "execution_count": 102,
   "metadata": {},
   "outputs": [
    {
     "name": "stdout",
     "output_type": "stream",
     "text": [
      "   temperature   humidity    rainfall label\n",
      "0    20.879744  82.002744  202.935536  rice\n"
     ]
    }
   ],
   "source": [
    "data=pd.read_csv('cpdata.csv')\n",
    "print(data.head(1))"
   ]
  },
  {
   "cell_type": "code",
   "execution_count": 103,
   "metadata": {},
   "outputs": [
    {
     "name": "stdout",
     "output_type": "stream",
     "text": [
      "The data present in one row of the dataset is:\n",
      "   temperature   humidity    rainfall  Black gram  Chickpea  Coconut  Coffee  \\\n",
      "0    20.879744  82.002744  202.935536           0         0        0       0   \n",
      "1    21.770462  80.319644  226.655537           0         0        0       0   \n",
      "\n",
      "   Cotton  Ground Nut  Jute  ...  maize  mango  millet  muskmelon  orange  \\\n",
      "0       0           0     0  ...      0      0       0          0       0   \n",
      "1       0           0     0  ...      0      0       0          0       0   \n",
      "\n",
      "   papaya  pomegranate  rice  watermelon  wheat  \n",
      "0       0            0     1           0      0  \n",
      "1       0            0     1           0      0  \n",
      "\n",
      "[2 rows x 33 columns]\n",
      "The Column Header : ['temperature', 'humidity', 'rainfall', 'Black gram', 'Chickpea', 'Coconut', 'Coffee', 'Cotton', 'Ground Nut', 'Jute', 'Kidney Beans', 'Lentil', 'Moth Beans', 'Mung Bean', 'Peas', 'Pigeon Peas', 'Rubber', 'Sugarcane', 'Tea', 'Tobacco', 'apple', 'banana', 'grapes', 'maize', 'mango', 'millet', 'muskmelon', 'orange', 'papaya', 'pomegranate', 'rice', 'watermelon', 'wheat']\n"
     ]
    }
   ],
   "source": [
    "#Creating dummy variable for target i.e label\n",
    "label= pd.get_dummies(data.label).iloc[: , 1:]\n",
    "data= pd.concat([data,label],axis=1)\n",
    "data.drop('label', axis=1,inplace=True)\n",
    "print('The data present in one row of the dataset is:')\n",
    "print(data.head(2))\n",
    "column_headers = list(data.columns.values)\n",
    "print(\"The Column Header :\", column_headers)\n",
    "train=data.iloc[:, 0:3].values\n",
    "test=data.iloc[: ,3:].values"
   ]
  },
  {
   "cell_type": "code",
   "execution_count": 104,
   "metadata": {},
   "outputs": [
    {
     "name": "stdout",
     "output_type": "stream",
     "text": [
      "(2790, 3)\n",
      "[[28.06642822 85.91625451 39.23831035]\n",
      " [21.3272581  50.74277753 86.54737814]]\n",
      "(2790, 30)\n",
      "[0 0 0 0 0 0 0 0 0 0 1 0 0 0 0 0 0 0 0 0 0 0 0 0 0 0 0 0 0 0]\n"
     ]
    }
   ],
   "source": [
    "#Dividing the data into training and test set\n",
    "X_train,X_test,y_train,y_test=train_test_split(train,test,test_size=0.1)\n",
    "print(X_train.shape)\n",
    "print(X_test[:2])\n",
    "print(y_train.shape)\n",
    "print(y_test[0])"
   ]
  },
  {
   "cell_type": "code",
   "execution_count": 105,
   "metadata": {},
   "outputs": [],
   "source": [
    "def init_var():\n",
    "    w1 = np.random.rand(30, 3) - 0.5\n",
    "    b1 = np.random.rand(30, 1) - 0.5\n",
    "    w2 = np.random.rand(30, 30) - 0.5\n",
    "    b2 = np.random.rand(30, 1) - 0.5\n",
    "    return w1, b1, w2, b2"
   ]
  },
  {
   "cell_type": "code",
   "execution_count": 106,
   "metadata": {},
   "outputs": [],
   "source": [
    "def ReLU(z):\n",
    "    return np.maximum(z, 0)\n",
    "\n",
    "def Softmax(Z):\n",
    "    A = np.exp(Z) / sum(np.exp(Z))\n",
    "    return A\n",
    "\n",
    "def derv_ReLU(z):\n",
    "    return z > 0"
   ]
  },
  {
   "cell_type": "code",
   "execution_count": 107,
   "metadata": {},
   "outputs": [],
   "source": [
    "# arr is a 2d numpy array, assign the maximum value in each row to 1 and the rest to 0\n",
    "def max_to_one(arr, m, n):\n",
    "    for i in range(0, m):\n",
    "        d = np.argmax(arr[i])\n",
    "        for j in range(0, n):\n",
    "            if(d == j):\n",
    "                arr[i][j] = 1\n",
    "            else:\n",
    "                arr[i][j] = 0\n",
    "    return arr"
   ]
  },
  {
   "cell_type": "code",
   "execution_count": 108,
   "metadata": {},
   "outputs": [],
   "source": [
    "def forward_prop(w1, b1, w2, b2, x):\n",
    "    z1 = w1.dot(x) + b1\n",
    "    a1 = ReLU(z1)\n",
    "    z2 = w2.dot(a1) + b2\n",
    "    a2 = Softmax(z2)\n",
    "    a2 = a2.T\n",
    "    #find the number of rows in a2\n",
    "    m = a2.shape[0]\n",
    "    #print(a2)\n",
    "    a2 = max_to_one(a2, m, 30)\n",
    "    # print(a2)\n",
    "    # print(a2.shape)\n",
    "    return z1, a1, z2, a2\n",
    "\n",
    "def back_prop(w1, b1, w2, b2, x, y, z1, a1, z2, a2):\n",
    "    m = y.size\n",
    "    dz2 = (a2 - y).T\n",
    "    dw2 = 1 / m * (dz2.dot(a1.T))\n",
    "    db2 = 1 / m * np.sum(dz2)\n",
    "    dz1 = w2.T.dot(dz2) * derv_ReLU(z1)\n",
    "    dw1 = 1 / m * (dz1.dot(x.T))\n",
    "    db1 = 1 / m * np.sum(dz1)\n",
    "    return dw1, db1, dw2, db2\n",
    "\n",
    "def update_var(w1, b1, w2, b2, dw1, db1, dw2, db2, learning_rate):\n",
    "    w1 = w1 - learning_rate * dw1\n",
    "    b1 = b1 - learning_rate * db1\n",
    "    w2 = w2 - learning_rate * dw2\n",
    "    b2 = b2 - learning_rate * db2\n",
    "    return w1, b1, w2, b2"
   ]
  },
  {
   "cell_type": "code",
   "execution_count": 109,
   "metadata": {},
   "outputs": [],
   "source": [
    "def accuracy(y_pred, y):\n",
    "    return np.mean(y_pred == y)\n",
    "\n",
    "def grad_descent(x, y, alpha, w1, b1, w2, b2):\n",
    "    z1, a1, z2, a2 = forward_prop(w1, b1, w2, b2, x)\n",
    "    dw1, db1, dw2, db2 = back_prop(w1, b1, w2, b2, x, y, z1, a1, z2, a2)\n",
    "    w1, b1, w2, b2 = update_var(w1, b1, w2, b2, dw1, db1, dw2, db2, alpha)\n",
    "    return w1, b1, w2, b2, a2"
   ]
  },
  {
   "cell_type": "code",
   "execution_count": 116,
   "metadata": {},
   "outputs": [
    {
     "name": "stdout",
     "output_type": "stream",
     "text": [
      "Iteration:  1\n",
      "Train Accuracy:  0.938146551724138\n",
      "Iteration:  2\n",
      "Train Accuracy:  0.938374042145594\n",
      "Iteration:  3\n",
      "Train Accuracy:  0.9387452107279693\n",
      "Iteration:  4\n",
      "Train Accuracy:  0.939218151340996\n",
      "Iteration:  5\n",
      "Train Accuracy:  0.9394971264367815\n",
      "Iteration:  6\n",
      "Train Accuracy:  0.9397190293742017\n",
      "Iteration:  7\n",
      "Train Accuracy:  0.9398535851122057\n",
      "Iteration:  8\n",
      "Train Accuracy:  0.9399739583333333\n",
      "Iteration:  9\n",
      "Train Accuracy:  0.9400768944231588\n",
      "Iteration:  10\n",
      "Train Accuracy:  0.9401520593869732\n",
      "Iteration:  11\n",
      "Train Accuracy:  0.9402222657610589\n",
      "Iteration:  12\n",
      "Train Accuracy:  0.9402787755427842\n",
      "Iteration:  13\n",
      "Train Accuracy:  0.9403321175950486\n",
      "Iteration:  14\n",
      "Train Accuracy:  0.9403761288998356\n",
      "Iteration:  15\n",
      "Train Accuracy:  0.9404150702426566\n",
      "Iteration:  16\n",
      "Train Accuracy:  0.9404498922413793\n",
      "Iteration:  17\n",
      "Train Accuracy:  0.9404820261437908\n",
      "Iteration:  18\n",
      "Train Accuracy:  0.9405105896126011\n",
      "Iteration:  19\n",
      "Train Accuracy:  0.9405361464004839\n",
      "Iteration:  20\n",
      "Train Accuracy:  0.940557950191571\n",
      "Iteration:  21\n",
      "Train Accuracy:  0.940575966976829\n",
      "Iteration:  22\n",
      "Train Accuracy:  0.9405950670498084\n",
      "Iteration:  23\n",
      "Train Accuracy:  0.9406125062468766\n",
      "Iteration:  24\n",
      "Train Accuracy:  0.9406284921775223\n",
      "Iteration:  25\n",
      "Train Accuracy:  0.9406441570881225\n",
      "Iteration:  26\n",
      "Train Accuracy:  0.9406567749778957\n",
      "Iteration:  27\n",
      "Train Accuracy:  0.9406675713069392\n",
      "Iteration:  28\n",
      "Train Accuracy:  0.9406793069239188\n",
      "Iteration:  29\n",
      "Train Accuracy:  0.9406902331880037\n",
      "Iteration:  30\n",
      "Train Accuracy:  0.9406992337164752\n",
      "Iteration:  31\n",
      "Train Accuracy:  0.940707267334075\n",
      "Iteration:  32\n",
      "Train Accuracy:  0.9407147988505746\n",
      "Iteration:  33\n",
      "Train Accuracy:  0.9407225995588063\n",
      "Iteration:  34\n",
      "Train Accuracy:  0.9407302935542032\n",
      "Iteration:  35\n",
      "Train Accuracy:  0.940735153256705\n",
      "Iteration:  36\n",
      "Train Accuracy:  0.940741738505747\n",
      "Iteration:  37\n",
      "Train Accuracy:  0.9407473205964585\n",
      "Iteration:  38\n",
      "Train Accuracy:  0.9407532390602943\n",
      "Iteration:  39\n",
      "Train Accuracy:  0.9407588540131645\n",
      "Iteration:  40\n",
      "Train Accuracy:  0.9407644875478927\n",
      "Iteration:  41\n",
      "Train Accuracy:  0.9407689701897018\n",
      "Iteration:  42\n",
      "Train Accuracy:  0.9407743796752418\n",
      "Iteration:  43\n",
      "Train Accuracy:  0.9407789806647063\n",
      "Iteration:  44\n",
      "Train Accuracy:  0.9407839167537443\n",
      "Iteration:  45\n",
      "Train Accuracy:  0.9407878352490422\n",
      "Iteration:  46\n",
      "Train Accuracy:  0.9407928848075962\n",
      "Iteration:  47\n",
      "Train Accuracy:  0.9407972099942936\n",
      "Iteration:  48\n",
      "Train Accuracy:  0.9408008560823755\n",
      "Iteration:  49\n",
      "Train Accuracy:  0.9408033759480804\n",
      "Iteration:  50\n",
      "Train Accuracy:  0.9408086685823753\n",
      "Iteration:  51\n",
      "Train Accuracy:  0.9408137536623845\n",
      "Iteration:  52\n",
      "Train Accuracy:  0.940818643162393\n",
      "Iteration:  53\n",
      "Train Accuracy:  0.9408224445167354\n",
      "Iteration:  54\n",
      "Train Accuracy:  0.9408283223357455\n",
      "Iteration:  55\n",
      "Train Accuracy:  0.94083311563915\n",
      "Iteration:  56\n",
      "Train Accuracy:  0.9408381653667213\n",
      "Iteration:  57\n",
      "Train Accuracy:  0.9408451384687772\n",
      "Iteration:  58\n",
      "Train Accuracy:  0.9408498067776456\n",
      "Iteration:  59\n",
      "Train Accuracy:  0.9408563461913111\n",
      "Iteration:  60\n",
      "Train Accuracy:  0.9408630667305236\n",
      "Iteration:  61\n",
      "Train Accuracy:  0.9408676041077821\n",
      "Iteration:  62\n",
      "Train Accuracy:  0.9408723813496478\n",
      "Iteration:  63\n",
      "Train Accuracy:  0.9408777671349511\n",
      "Iteration:  64\n",
      "Train Accuracy:  0.9408831716954023\n",
      "Iteration:  65\n",
      "Train Accuracy:  0.9408867521367521\n",
      "Iteration:  66\n",
      "Train Accuracy:  0.94089276384535\n",
      "Iteration:  67\n",
      "Train Accuracy:  0.9408980599874192\n",
      "Iteration:  68\n",
      "Train Accuracy:  0.9409030242844263\n",
      "Iteration:  69\n",
      "Train Accuracy:  0.9409078446887668\n",
      "Iteration:  70\n",
      "Train Accuracy:  0.9409123563218391\n",
      "Iteration:  71\n",
      "Train Accuracy:  0.9409164035939775\n",
      "Iteration:  72\n",
      "Train Accuracy:  0.9409215025010642\n",
      "Iteration:  73\n",
      "Train Accuracy:  0.9409258056474046\n",
      "Iteration:  74\n",
      "Train Accuracy:  0.9409298306927616\n",
      "Iteration:  75\n",
      "Train Accuracy:  0.9409343869731801\n",
      "Iteration:  76\n",
      "Train Accuracy:  0.940939926144384\n",
      "Iteration:  77\n",
      "Train Accuracy:  0.9409440774742498\n",
      "Iteration:  78\n",
      "Train Accuracy:  0.9409482758620689\n",
      "Iteration:  79\n",
      "Train Accuracy:  0.940951761724623\n",
      "Iteration:  80\n",
      "Train Accuracy:  0.9409553101053639\n",
      "Iteration:  81\n",
      "Train Accuracy:  0.9409599534080696\n",
      "Iteration:  82\n",
      "Train Accuracy:  0.940963899401925\n",
      "Iteration:  83\n",
      "Train Accuracy:  0.940967029035683\n",
      "Iteration:  84\n",
      "Train Accuracy:  0.9409702266922094\n",
      "Iteration:  85\n",
      "Train Accuracy:  0.9409741942754114\n",
      "Iteration:  86\n",
      "Train Accuracy:  0.9409780695892364\n",
      "Iteration:  87\n",
      "Train Accuracy:  0.9409815805698684\n",
      "Iteration:  88\n",
      "Train Accuracy:  0.9409847396377569\n",
      "Iteration:  89\n",
      "Train Accuracy:  0.9409886348960352\n",
      "Iteration:  90\n",
      "Train Accuracy:  0.9409913793103449\n",
      "Iteration:  91\n",
      "Train Accuracy:  0.9409945897014862\n",
      "Iteration:  92\n",
      "Train Accuracy:  0.9409966891554222\n",
      "Iteration:  93\n",
      "Train Accuracy:  0.9410004171301446\n",
      "Iteration:  94\n",
      "Train Accuracy:  0.9410036836634875\n",
      "Iteration:  95\n",
      "Train Accuracy:  0.9410066293607583\n",
      "Iteration:  96\n",
      "Train Accuracy:  0.9410097631305876\n",
      "Iteration:  97\n",
      "Train Accuracy:  0.9410128322866059\n",
      "Iteration:  98\n",
      "Train Accuracy:  0.9410158388067872\n",
      "Iteration:  99\n",
      "Train Accuracy:  0.9410185427067612\n",
      "Iteration:  100\n",
      "Train Accuracy:  0.9410209530651342\n"
     ]
    }
   ],
   "source": [
    "from sklearn.utils import shuffle\n",
    "batch_size = 32\n",
    "n_example = 2790\n",
    "batches = int(n_example/batch_size)\n",
    "epochs = 100\n",
    "w1, b1, w2, b2 = init_var()\n",
    "# print(w1)\n",
    "acc = np.empty(0)\n",
    "for epoch in range(epochs):\n",
    "    i = shuffle(range(n_example))\n",
    "    for b in range(batches):\n",
    "        x_batch = X_train[i[b*batch_size:(b+1)*batch_size]]\n",
    "        y_batch = y_train[i[b*batch_size:(b+1)*batch_size]]\n",
    "        w1, b1, w2, b2, a2 = grad_descent(x_batch.T, y_batch, 0.1, w1, b1, w2, b2)\n",
    "        acc = np.append(acc, accuracy(a2, y_batch))\n",
    "    print(\"Iteration: \", epoch+1)\n",
    "    print(\"Train Accuracy: \", np.mean(acc))\n",
    "# print(w1)"
   ]
  },
  {
   "cell_type": "code",
   "execution_count": 111,
   "metadata": {},
   "outputs": [
    {
     "name": "stdout",
     "output_type": "stream",
     "text": [
      "Test Accuracy:  0.9414351851851852\n"
     ]
    }
   ],
   "source": [
    "n_example_t = 310\n",
    "batches = int(n_example_t/batch_size)\n",
    "acc_test = np.empty(0)\n",
    "i = shuffle(range(n_example_t))\n",
    "for b in range(batches):\n",
    "    x_batch_t = X_test[i[b*batch_size:(b+1)*batch_size]]\n",
    "    y_batch_t = y_test[i[b*batch_size:(b+1)*batch_size]]\n",
    "    z1, a1, z2, a2 = forward_prop(w1, b1, w2, b2, x_batch_t.T)\n",
    "    acc_test = np.append(acc_test, accuracy(a2, y_batch_t))\n",
    "print(\"Test Accuracy: \", np.mean(acc_test))"
   ]
  },
  {
   "cell_type": "code",
   "execution_count": 8,
   "metadata": {},
   "outputs": [
    {
     "ename": "ModuleNotFoundError",
     "evalue": "No module named 'board'",
     "output_type": "error",
     "traceback": [
      "\u001b[1;31m---------------------------------------------------------------------------\u001b[0m",
      "\u001b[1;31mModuleNotFoundError\u001b[0m                       Traceback (most recent call last)",
      "Cell \u001b[1;32mIn[8], line 1\u001b[0m\n\u001b[1;32m----> 1\u001b[0m \u001b[39mfrom\u001b[39;00m \u001b[39mtemp_app\u001b[39;00m \u001b[39mimport\u001b[39;00m \u001b[39m*\u001b[39m\n\u001b[0;32m      2\u001b[0m \u001b[39mfrom\u001b[39;00m \u001b[39mrainfall_api\u001b[39;00m \u001b[39mimport\u001b[39;00m \u001b[39m*\u001b[39m\n\u001b[0;32m      4\u001b[0m atemp, ah \u001b[39m=\u001b[39m sense()\n",
      "File \u001b[1;32mc:\\Users\\vidoo\\OneDrive\\Desktop\\Codes_and_resources\\Projects\\Crop-prediction\\crop-prediction\\temp_app.py:3\u001b[0m\n\u001b[0;32m      1\u001b[0m \u001b[39m# import the necessary packages\u001b[39;00m\n\u001b[0;32m      2\u001b[0m \u001b[39mimport\u001b[39;00m \u001b[39mtime\u001b[39;00m\n\u001b[1;32m----> 3\u001b[0m \u001b[39mimport\u001b[39;00m \u001b[39mboard\u001b[39;00m\n\u001b[0;32m      4\u001b[0m \u001b[39mimport\u001b[39;00m \u001b[39madafruit_dht\u001b[39;00m\n\u001b[0;32m      5\u001b[0m \u001b[39mimport\u001b[39;00m \u001b[39mpsutil\u001b[39;00m\n",
      "\u001b[1;31mModuleNotFoundError\u001b[0m: No module named 'board'"
     ]
    }
   ],
   "source": [
    "from temp_app import *\n",
    "from rainfall_api import *\n",
    "\n",
    "atemp, ah = sense()\n",
    "rain = get_rain()"
   ]
  },
  {
   "cell_type": "code",
   "execution_count": 117,
   "metadata": {},
   "outputs": [
    {
     "name": "stdout",
     "output_type": "stream",
     "text": [
      "[[ 35  70 110]]\n",
      "(1, 3)\n"
     ]
    }
   ],
   "source": [
    "#atemp, ah, rain = 35, 70, 110\n",
    "l=[]\n",
    "l.append(atemp)\n",
    "l.append(ah)\n",
    "l.append(rain)\n",
    "#create a numpy arrray with atemp, ah and rain\n",
    "predictcrop = np.array(l)\n",
    "predictcrop = predictcrop.reshape(1, 3)\n",
    "print(predictcrop)\n",
    "print(predictcrop.shape)"
   ]
  },
  {
   "cell_type": "code",
   "execution_count": 113,
   "metadata": {},
   "outputs": [
    {
     "name": "stdout",
     "output_type": "stream",
     "text": [
      "30\n"
     ]
    }
   ],
   "source": [
    "# Putting the names of crop in a single list\n",
    "crops=['Black gram', 'Chickpea', 'Coconut', 'Coffee', 'Cotton', 'Ground Nut', 'Jute', 'Kidney Beans', 'Lentil', 'Moth Beans', 'Mung Bean', 'Peas', 'Pigeon Peas', 'Rubber', 'Sugarcane', 'Tea', 'Tobacco', 'apple', 'banana', 'grapes', 'maize', 'mango', 'millet', 'muskmelon', 'orange', 'papaya', 'pomegranate', 'rice', 'watermelon', 'wheat']\n",
    "print(len(crops))"
   ]
  },
  {
   "cell_type": "code",
   "execution_count": 114,
   "metadata": {},
   "outputs": [],
   "source": [
    "def pred1(wa1, ba1, wa2, ba2, xa):\n",
    "    za1 = wa1.dot(xa) + ba1\n",
    "    aa1 = ReLU(za1)\n",
    "    za2 = wa2.dot(aa1) + ba2\n",
    "    aa2 = Softmax(za2)\n",
    "    aa2 = aa2.T\n",
    "    return aa2"
   ]
  },
  {
   "cell_type": "code",
   "execution_count": 118,
   "metadata": {},
   "outputs": [
    {
     "name": "stdout",
     "output_type": "stream",
     "text": [
      "[[ 35  70 110]]\n",
      "[[0.03579922 0.03552312 0.0313387  0.03573633 0.04543665 0.02612702\n",
      "  0.02640023 0.02321325 0.02691745 0.05055361 0.0215469  0.03753383\n",
      "  0.03267875 0.05020502 0.02058027 0.03265478 0.04091816 0.02626577\n",
      "  0.03376599 0.02464515 0.03836859 0.02974075 0.02544817 0.02920799\n",
      "  0.04338035 0.05141546 0.04240186 0.03370489 0.02425643 0.02423534]]\n",
      "Recommended crops are: \n",
      "Cotton\n",
      "Moth Beans\n",
      "Rubber\n",
      "Tobacco\n",
      "orange\n",
      "papaya\n",
      "pomegranate\n"
     ]
    }
   ],
   "source": [
    "#print(w1)\n",
    "# print(b1.shape)\n",
    "# print(w2.shape)\n",
    "# print(b2.shape)\n",
    "# print(predictcrop.shape)\n",
    "# x1 = w1\n",
    "# x2 = b1\n",
    "# x3 = w2\n",
    "# x4 = b2\n",
    "print(predictcrop)\n",
    "a2 = pred1(w1, b1, w2, b2, predictcrop.T)\n",
    "#print(a2.shape)\n",
    "print(a2)\n",
    "#find mean of each column of a2\n",
    "#a2 = np.mean(a2, axis=0)\n",
    "#find maximum in a2\n",
    "# d = np.argmax(a2[0])\n",
    "# #find the index of the second largest number in a2\n",
    "# d2 = np.argpartition(a2.flatten(), -2)[-2]\n",
    "# print(\"The crop recommended is \",crops[d])\n",
    "# print(d)\n",
    "# print(\"The second crop recommended is \",crops[d2])\n",
    "# print(d2)\n",
    "# print(a2)\n",
    "thres = 0.04\n",
    "df = np.argwhere(a2 > thres)\n",
    "# print(df)\n",
    "print(\"Recommended crops are: \")\n",
    "if not df.size:\n",
    "    print(\"None suited.\")\n",
    "for i in df:\n",
    "    print(crops[i[1]])"
   ]
  }
 ],
 "metadata": {
  "kernelspec": {
   "display_name": "Python 3",
   "language": "python",
   "name": "python3"
  },
  "language_info": {
   "codemirror_mode": {
    "name": "ipython",
    "version": 3
   },
   "file_extension": ".py",
   "mimetype": "text/x-python",
   "name": "python",
   "nbconvert_exporter": "python",
   "pygments_lexer": "ipython3",
   "version": "3.10.11"
  },
  "orig_nbformat": 4
 },
 "nbformat": 4,
 "nbformat_minor": 2
}
