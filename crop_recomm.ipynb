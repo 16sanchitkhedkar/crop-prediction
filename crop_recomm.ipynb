{
 "cells": [
  {
   "cell_type": "code",
   "execution_count": 316,
   "metadata": {},
   "outputs": [],
   "source": [
    "#importing the required libraries\n",
    "import pandas as pd\n",
    "import numpy as np\n",
    "from sklearn.model_selection import train_test_split"
   ]
  },
  {
   "cell_type": "code",
   "execution_count": 317,
   "metadata": {},
   "outputs": [
    {
     "name": "stdout",
     "output_type": "stream",
     "text": [
      "   temperature   humidity    rainfall label\n",
      "0    20.879744  82.002744  202.935536  rice\n"
     ]
    }
   ],
   "source": [
    "data=pd.read_csv('cpdata.csv')\n",
    "print(data.head(1))"
   ]
  },
  {
   "cell_type": "code",
   "execution_count": 318,
   "metadata": {},
   "outputs": [
    {
     "name": "stdout",
     "output_type": "stream",
     "text": [
      "The data present in one row of the dataset is:\n",
      "   temperature   humidity    rainfall  Black gram  Chickpea  Coconut  Coffee  \\\n",
      "0    20.879744  82.002744  202.935536           0         0        0       0   \n",
      "1    21.770462  80.319644  226.655537           0         0        0       0   \n",
      "\n",
      "   Cotton  Ground Nut  Jute  ...  maize  mango  millet  muskmelon  orange  \\\n",
      "0       0           0     0  ...      0      0       0          0       0   \n",
      "1       0           0     0  ...      0      0       0          0       0   \n",
      "\n",
      "   papaya  pomegranate  rice  watermelon  wheat  \n",
      "0       0            0     1           0      0  \n",
      "1       0            0     1           0      0  \n",
      "\n",
      "[2 rows x 33 columns]\n",
      "The Column Header : ['temperature', 'humidity', 'rainfall', 'Black gram', 'Chickpea', 'Coconut', 'Coffee', 'Cotton', 'Ground Nut', 'Jute', 'Kidney Beans', 'Lentil', 'Moth Beans', 'Mung Bean', 'Peas', 'Pigeon Peas', 'Rubber', 'Sugarcane', 'Tea', 'Tobacco', 'apple', 'banana', 'grapes', 'maize', 'mango', 'millet', 'muskmelon', 'orange', 'papaya', 'pomegranate', 'rice', 'watermelon', 'wheat']\n"
     ]
    }
   ],
   "source": [
    "#Creating dummy variable for target i.e label\n",
    "label= pd.get_dummies(data.label).iloc[: , 1:]\n",
    "data= pd.concat([data,label],axis=1)\n",
    "data.drop('label', axis=1,inplace=True)\n",
    "print('The data present in one row of the dataset is:')\n",
    "print(data.head(2))\n",
    "column_headers = list(data.columns.values)\n",
    "print(\"The Column Header :\", column_headers)\n",
    "train=data.iloc[:, 0:3].values\n",
    "test=data.iloc[: ,3:].values"
   ]
  },
  {
   "cell_type": "code",
   "execution_count": 319,
   "metadata": {},
   "outputs": [
    {
     "name": "stdout",
     "output_type": "stream",
     "text": [
      "(2790, 3)\n",
      "[[ 26.56608303  94.45239715 116.3796525 ]\n",
      " [ 23.16855863  90.78821158 161.6892093 ]]\n",
      "(2790, 30)\n",
      "[0 0 0 0 0 0 0 0 0 0 0 0 0 0 0 0 0 0 0 0 0 0 0 0 1 0 0 0 0 0]\n"
     ]
    }
   ],
   "source": [
    "#Dividing the data into training and test set\n",
    "X_train,X_test,y_train,y_test=train_test_split(train,test,test_size=0.1)\n",
    "print(X_train.shape)\n",
    "print(X_test[:2])\n",
    "print(y_train.shape)\n",
    "print(y_test[0])"
   ]
  },
  {
   "cell_type": "code",
   "execution_count": 320,
   "metadata": {},
   "outputs": [],
   "source": [
    "def init_var():\n",
    "    w1 = np.random.rand(30, 3) - 0.5\n",
    "    b1 = np.random.rand(30, 1) - 0.5\n",
    "    w2 = np.random.rand(30, 30) - 0.5\n",
    "    b2 = np.random.rand(30, 1) - 0.5\n",
    "    return w1, b1, w2, b2"
   ]
  },
  {
   "cell_type": "code",
   "execution_count": 321,
   "metadata": {},
   "outputs": [],
   "source": [
    "def ReLU(z):\n",
    "    return np.maximum(z, 0)\n",
    "\n",
    "def Softmax(Z):\n",
    "    A = np.exp(Z) / sum(np.exp(Z))\n",
    "    return A\n",
    "\n",
    "def derv_ReLU(z):\n",
    "    return z > 0"
   ]
  },
  {
   "cell_type": "code",
   "execution_count": 322,
   "metadata": {},
   "outputs": [],
   "source": [
    "# arr is a 2d numpy array, assign the maximum value in each row to 1 and the rest to 0\n",
    "def max_to_one(arr, m, n):\n",
    "    for i in range(0, m):\n",
    "        d = np.argmax(arr[i])\n",
    "        for j in range(0, n):\n",
    "            if(d == j):\n",
    "                arr[i][j] = 1\n",
    "            else:\n",
    "                arr[i][j] = 0\n",
    "    return arr"
   ]
  },
  {
   "cell_type": "code",
   "execution_count": 323,
   "metadata": {},
   "outputs": [],
   "source": [
    "def forward_prop(w1, b1, w2, b2, x):\n",
    "    z1 = w1.dot(x) + b1\n",
    "    a1 = ReLU(z1)\n",
    "    z2 = w2.dot(a1) + b2\n",
    "    a2 = Softmax(z2)\n",
    "    a2 = a2.T\n",
    "    #find the number of rows in a2\n",
    "    m = a2.shape[0]\n",
    "    #print(a2)\n",
    "    a2 = max_to_one(a2, m, 30)\n",
    "    # print(a2)\n",
    "    # print(a2.shape)\n",
    "    return z1, a1, z2, a2\n",
    "\n",
    "def back_prop(w1, b1, w2, b2, x, y, z1, a1, z2, a2):\n",
    "    m = y.size\n",
    "    dz2 = (a2 - y).T\n",
    "    dw2 = 1 / m * (dz2.dot(a1.T))\n",
    "    db2 = 1 / m * np.sum(dz2)\n",
    "    dz1 = w2.T.dot(dz2) * derv_ReLU(z1)\n",
    "    dw1 = 1 / m * (dz1.dot(x.T))\n",
    "    db1 = 1 / m * np.sum(dz1)\n",
    "    return dw1, db1, dw2, db2\n",
    "\n",
    "def update_var(w1, b1, w2, b2, dw1, db1, dw2, db2, learning_rate):\n",
    "    w1 = w1 - learning_rate * dw1\n",
    "    b1 = b1 - learning_rate * db1\n",
    "    w2 = w2 - learning_rate * dw2\n",
    "    b2 = b2 - learning_rate * db2\n",
    "    return w1, b1, w2, b2"
   ]
  },
  {
   "cell_type": "code",
   "execution_count": 324,
   "metadata": {},
   "outputs": [],
   "source": [
    "def accuracy(y_pred, y):\n",
    "    return np.mean(y_pred == y)\n",
    "\n",
    "def grad_descent(x, y, alpha, w1, b1, w2, b2):\n",
    "    z1, a1, z2, a2 = forward_prop(w1, b1, w2, b2, x)\n",
    "    dw1, db1, dw2, db2 = back_prop(w1, b1, w2, b2, x, y, z1, a1, z2, a2)\n",
    "    w1, b1, w2, b2 = update_var(w1, b1, w2, b2, dw1, db1, dw2, db2, alpha)\n",
    "    return w1, b1, w2, b2, a2"
   ]
  },
  {
   "cell_type": "code",
   "execution_count": 325,
   "metadata": {},
   "outputs": [
    {
     "name": "stdout",
     "output_type": "stream",
     "text": [
      "Iteration:  1\n",
      "Train Accuracy:  0.9392840038314177\n"
     ]
    }
   ],
   "source": [
    "from sklearn.utils import shuffle\n",
    "batch_size = 32\n",
    "n_example = 2790\n",
    "batches = int(n_example/batch_size)\n",
    "epochs = 1\n",
    "w1, b1, w2, b2 = init_var()\n",
    "# print(w1)\n",
    "acc = np.empty(0)\n",
    "for epoch in range(epochs):\n",
    "    i = shuffle(range(n_example))\n",
    "    for b in range(batches):\n",
    "        x_batch = X_train[i[b*batch_size:(b+1)*batch_size]]\n",
    "        y_batch = y_train[i[b*batch_size:(b+1)*batch_size]]\n",
    "        w1, b1, w2, b2, a2 = grad_descent(x_batch.T, y_batch, 0.1, w1, b1, w2, b2)\n",
    "        acc = np.append(acc, accuracy(a2, y_batch))\n",
    "    print(\"Iteration: \", epoch+1)\n",
    "    print(\"Train Accuracy: \", np.mean(acc))\n",
    "# print(w1)"
   ]
  },
  {
   "cell_type": "code",
   "execution_count": 326,
   "metadata": {},
   "outputs": [
    {
     "name": "stdout",
     "output_type": "stream",
     "text": [
      "Test Accuracy:  0.9403935185185186\n"
     ]
    }
   ],
   "source": [
    "n_example_t = 310\n",
    "batches = int(n_example_t/batch_size)\n",
    "acc_test = np.empty(0)\n",
    "i = shuffle(range(n_example_t))\n",
    "for b in range(batches):\n",
    "    x_batch_t = X_test[i[b*batch_size:(b+1)*batch_size]]\n",
    "    y_batch_t = y_test[i[b*batch_size:(b+1)*batch_size]]\n",
    "    z1, a1, z2, a2 = forward_prop(w1, b1, w2, b2, x_batch_t.T)\n",
    "    acc_test = np.append(acc_test, accuracy(a2, y_batch_t))\n",
    "print(\"Test Accuracy: \", np.mean(acc_test))"
   ]
  },
  {
   "cell_type": "code",
   "execution_count": 327,
   "metadata": {},
   "outputs": [
    {
     "name": "stdout",
     "output_type": "stream",
     "text": [
      "[[ 21.07  93.57 107.87]]\n",
      "(1, 3)\n"
     ]
    }
   ],
   "source": [
    "atemp, ah, rain = 21.07,93.57,107.87\n",
    "l=[]\n",
    "l.append(atemp)\n",
    "l.append(ah)\n",
    "l.append(rain)\n",
    "#create a numpy arrray with atemp, ah and rain\n",
    "predictcrop = np.array(l)\n",
    "predictcrop = predictcrop.reshape(1, 3)\n",
    "print(predictcrop)\n",
    "print(predictcrop.shape)"
   ]
  },
  {
   "cell_type": "code",
   "execution_count": 328,
   "metadata": {},
   "outputs": [
    {
     "name": "stdout",
     "output_type": "stream",
     "text": [
      "30\n"
     ]
    }
   ],
   "source": [
    "# Putting the names of crop in a single list\n",
    "crops=['Black gram', 'Chickpea', 'Coconut', 'Coffee', 'Cotton', 'Ground Nut', 'Jute', 'Kidney Beans', 'Lentil', 'Moth Beans', 'Mung Bean', 'Peas', 'Pigeon Peas', 'Rubber', 'Sugarcane', 'Tea', 'Tobacco', 'apple', 'banana', 'grapes', 'maize', 'mango', 'millet', 'muskmelon', 'orange', 'papaya', 'pomegranate', 'rice', 'watermelon', 'wheat']\n",
    "print(len(crops))"
   ]
  },
  {
   "cell_type": "code",
   "execution_count": 331,
   "metadata": {},
   "outputs": [],
   "source": [
    "def pred1(wa1, ba1, wa2, ba2, xa):\n",
    "    za1 = wa1.dot(xa) + ba1\n",
    "    aa1 = ReLU(za1)\n",
    "    za2 = wa2.dot(aa1) + ba2\n",
    "    aa2 = Softmax(za2)\n",
    "    aa2 = aa2.T\n",
    "    return aa2"
   ]
  },
  {
   "cell_type": "code",
   "execution_count": 332,
   "metadata": {},
   "outputs": [
    {
     "name": "stdout",
     "output_type": "stream",
     "text": [
      "[[ 21.07  93.57 107.87]]\n",
      "[[0.04972964 0.0223349  0.03092844 0.02855278 0.02462551 0.02765455\n",
      "  0.04383936 0.0428518  0.04095819 0.0490886  0.02236705 0.03554935\n",
      "  0.03072792 0.03564921 0.03472836 0.04833174 0.02163635 0.02401481\n",
      "  0.0211913  0.02875651 0.02266411 0.03912395 0.02838313 0.03510504\n",
      "  0.02088845 0.02267946 0.05106755 0.03159347 0.04585697 0.03912147]]\n",
      "Recommended crops are: \n",
      "Black gram\n",
      "Jute\n",
      "Kidney Beans\n",
      "Lentil\n",
      "Moth Beans\n",
      "Tea\n",
      "pomegranate\n",
      "watermelon\n"
     ]
    }
   ],
   "source": [
    "#print(w1)\n",
    "# print(b1.shape)\n",
    "# print(w2.shape)\n",
    "# print(b2.shape)\n",
    "# print(predictcrop.shape)\n",
    "# x1 = w1\n",
    "# x2 = b1\n",
    "# x3 = w2\n",
    "# x4 = b2\n",
    "print(predictcrop)\n",
    "a2 = pred1(w1, b1, w2, b2, predictcrop.T)\n",
    "#print(a2.shape)\n",
    "print(a2)\n",
    "#find mean of each column of a2\n",
    "#a2 = np.mean(a2, axis=0)\n",
    "#find maximum in a2\n",
    "# d = np.argmax(a2[0])\n",
    "# #find the index of the second largest number in a2\n",
    "# d2 = np.argpartition(a2.flatten(), -2)[-2]\n",
    "# print(\"The crop recommended is \",crops[d])\n",
    "# print(d)\n",
    "# print(\"The second crop recommended is \",crops[d2])\n",
    "# print(d2)\n",
    "# print(a2)\n",
    "thres = 0.04\n",
    "df = np.argwhere(a2 > thres)\n",
    "# print(df)\n",
    "print(\"Recommended crops are: \")\n",
    "if not df.size:\n",
    "    print(\"None suited.\")\n",
    "for i in df:\n",
    "    print(crops[i[1]])"
   ]
  }
 ],
 "metadata": {
  "kernelspec": {
   "display_name": "Python 3",
   "language": "python",
   "name": "python3"
  },
  "language_info": {
   "codemirror_mode": {
    "name": "ipython",
    "version": 3
   },
   "file_extension": ".py",
   "mimetype": "text/x-python",
   "name": "python",
   "nbconvert_exporter": "python",
   "pygments_lexer": "ipython3",
   "version": "3.10.11"
  },
  "orig_nbformat": 4
 },
 "nbformat": 4,
 "nbformat_minor": 2
}
